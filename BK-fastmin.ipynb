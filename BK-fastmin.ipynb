{
 "cells": [
  {
   "cell_type": "code",
   "execution_count": 1,
   "metadata": {},
   "outputs": [],
   "source": [
    "import copy\n",
    "import numpy as np\n",
    "\n",
    "from random import choice\n",
    "import matplotlib.pyplot as plt\n",
    "\n",
    "from time import time\n",
    "from tqdm import tqdm\n",
    "\n",
    "import funcs as f"
   ]
  },
  {
   "cell_type": "markdown",
   "metadata": {},
   "source": [
    "---"
   ]
  },
  {
   "cell_type": "code",
   "execution_count": 2,
   "metadata": {},
   "outputs": [],
   "source": [
    "shape = (64,64)\n",
    "betta = 10\n",
    "img = f.import_img(\"input.png\", bw=True, newshape=shape)\n",
    "Vsize = img.size+2\n",
    "s, t = 0, img.size+1"
   ]
  },
  {
   "cell_type": "code",
   "execution_count": 3,
   "metadata": {
    "scrolled": true
   },
   "outputs": [
    {
     "data": {
      "image/png": "[encoded data removed]",
      "text/plain": [
       "<Figure size 432x288 with 1 Axes>"
      ]
     },
     "metadata": {
      "needs_background": "light"
     },
     "output_type": "display_data"
    }
   ],
   "source": [
    "f.res_check(img)"
   ]
  },
  {
   "cell_type": "code",
   "execution_count": 4,
   "metadata": {},
   "outputs": [],
   "source": [
    "g = f.init_g(img, scale=betta)\n",
    "N = f.init_N(g)\n",
    "#plt.imshow(g, cmap='gray')"
   ]
  },
  {
   "cell_type": "markdown",
   "metadata": {},
   "source": [
    "---"
   ]
  },
  {
   "cell_type": "code",
   "execution_count": 5,
   "metadata": {},
   "outputs": [],
   "source": [
    "# Residual graph\n",
    "G_f = np.copy(g)\n",
    "\n",
    "# Active nodes\n",
    "A = [s, t]\n",
    "\n",
    "# Orphans\n",
    "O = []\n",
    "\n",
    "# S and T trees\n",
    "Tree = np.full(Vsize, -1)\n",
    "Tree[0]  = 0  # s in S\n",
    "Tree[-1] = 1 # t in T\n",
    "\n",
    "# Parents\n",
    "Parent = np.full(Vsize, -1) "
   ]
  },
  {
   "cell_type": "code",
   "execution_count": 6,
   "metadata": {},
   "outputs": [],
   "source": [
    "def iterarion(Tree, Parent, A, O, G_f, N):\n",
    "    \n",
    "    path, Tree, Parent, A = f.Growth_stage(Tree, Parent, A, G_f, N)\n",
    "    if path == None:\n",
    "        end = True\n",
    "        return end, Tree, Parent, A, O, G_f, N\n",
    "    \n",
    "    Parent, O, G_f = f.Augmentation_stage(path, Tree, Parent, O, G_f)\n",
    "    \n",
    "    Tree, Parent, O, A = f.Adoption_stage(Tree, Parent, O, A, N, G_f)\n",
    "    \n",
    "    end = False\n",
    "    return end, Tree, Parent, A, O, G_f, N"
   ]
  },
  {
   "cell_type": "code",
   "execution_count": 7,
   "metadata": {},
   "outputs": [
    {
     "name": "stdout",
     "output_type": "stream",
     "text": [
      "End\n",
      "Running time: 25.51863980293274\n"
     ]
    }
   ],
   "source": [
    "start = time()\n",
    "\n",
    "end = False\n",
    "while end != True:\n",
    "    \n",
    "    try:\n",
    "        end, Tree, Parent, A, O, G_f, N = iterarion(Tree, Parent, A, O, G_f, N)\n",
    "    except:\n",
    "        print(\"End\")\n",
    "        break\n",
    "        \n",
    "print(f\"Running time: {time() - start}\")"
   ]
  },
  {
   "cell_type": "code",
   "execution_count": 8,
   "metadata": {},
   "outputs": [
    {
     "data": {
      "image/png": "[encoded data removed]",
      "text/plain": [
       "<Figure size 432x288 with 1 Axes>"
      ]
     },
     "metadata": {
      "needs_background": "light"
     },
     "output_type": "display_data"
    }
   ],
   "source": [
    "f.show_tree(Tree, shape)"
   ]
  },
  {
   "cell_type": "code",
   "execution_count": 9,
   "metadata": {},
   "outputs": [
    {
     "data": {
      "image/png": "[encoded data removed]",
      "text/plain": [
       "<Figure size 432x288 with 1 Axes>"
      ]
     },
     "metadata": {
      "needs_background": "light"
     },
     "output_type": "display_data"
    }
   ],
   "source": [
    "f.res_check(img)"
   ]
  }
 ],
 "metadata": {
  "kernelspec": {
   "display_name": "Python 3",
   "language": "python",
   "name": "python3"
  },
  "language_info": {
   "codemirror_mode": {
    "name": "ipython",
    "version": 3
   },
   "file_extension": ".py",
   "mimetype": "text/x-python",
   "name": "python",
   "nbconvert_exporter": "python",
   "pygments_lexer": "ipython3",
   "version": "3.8.0"
  }
 },
 "nbformat": 4,
 "nbformat_minor": 5
}
